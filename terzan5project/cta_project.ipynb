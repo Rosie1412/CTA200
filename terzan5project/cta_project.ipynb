{
 "cells": [
  {
   "cell_type": "code",
   "execution_count": 22,
   "metadata": {},
   "outputs": [],
   "source": [
    "#delete these first two lines, they are only needed on my computer\n",
    "import sys\n",
    "sys.path.append(\"/miniconda3/lib/python3.7/site-packages\")\n",
    "\n",
    "from astropy.io import fits\n",
    "from astropy import units as u\n",
    "from astropy.coordinates import SkyCoord\n",
    "import numpy as np\n",
    "import matplotlib.pyplot as plt\n",
    "from scipy.optimize import curve_fit\n",
    "from astropy import units as u\n",
    "import unittest as ut"
   ]
  },
  {
   "cell_type": "code",
   "execution_count": 3,
   "metadata": {},
   "outputs": [],
   "source": [
    "terzan5=fits.open(\"./terzan5_al_datacube.fits\")\n",
    "t5_data = fits.getdata(\"./terzan5_al_datacube.fits\", ext=0)"
   ]
  },
  {
   "cell_type": "code",
   "execution_count": null,
   "metadata": {},
   "outputs": [],
   "source": [
    "print(t5_data.shape)"
   ]
  },
  {
   "cell_type": "code",
   "execution_count": 4,
   "metadata": {},
   "outputs": [
    {
     "name": "stdout",
     "output_type": "stream",
     "text": [
      "Filename: ./terzan5_al_datacube.fits\n",
      "No.    Name      Ver    Type      Cards   Dimensions   Format\n",
      "  0  PRIMARY       1 PrimaryHDU     215   ()      \n",
      "  1  SCI           1 ImageHDU       107   (64, 62, 2040)   float64   \n"
     ]
    }
   ],
   "source": [
    "terzan5.info()"
   ]
  },
  {
   "cell_type": "code",
   "execution_count": 29,
   "metadata": {},
   "outputs": [
    {
     "data": {
      "text/plain": [
       "62"
      ]
     },
     "execution_count": 29,
     "metadata": {},
     "output_type": "execute_result"
    }
   ],
   "source": [
    "len(t5_data[60])"
   ]
  },
  {
   "cell_type": "code",
   "execution_count": 28,
   "metadata": {},
   "outputs": [
    {
     "data": {
      "image/png": "[encoded data removed]",
      "text/plain": [
       "<Figure size 432x288 with 1 Axes>"
      ]
     },
     "metadata": {
      "needs_background": "light"
     },
     "output_type": "display_data"
    }
   ],
   "source": [
    "plt.plot(t5_data[65])\n",
    "plt.show()"
   ]
  },
  {
   "cell_type": "code",
   "execution_count": 5,
   "metadata": {
    "scrolled": false
   },
   "outputs": [
    {
     "data": {
      "text/plain": [
       "SIMPLE  =                    T / Fits standard                                  \n",
       "BITPIX  =                    8 / Bits per pixel                                 \n",
       "NAXIS   =                    0 / Number of axes                                 \n",
       "EXTEND  =                    T / File may contain extensions                    \n",
       "ORIGIN  = 'NOAO-IRAF FITS Image Kernel July 2003' / FITS file originator        \n",
       "DATE    = '2019-10-13T15:19:41' / Date FITS file was generated                  \n",
       "IRAF-TLM= '2019-10-13T16:18:25' / Time of last modification                     \n",
       "COMMENT   FITS (Flexible Image Transport System) format is defined in 'Astronomy\n",
       "COMMENT   and Astrophysics', volume 376, page 359; bibcode: 2001A&A...376..359H \n",
       "INSTRUME= 'NIFS    '           / Instrument used to acquire data.               \n",
       "OBJECT  = 'Cl Terzan 5'        / Object Name                                    \n",
       "OBSTYPE = 'OBJECT  '           / Observation type                               \n",
       "OBSCLASS= 'science '           / Observe class                                  \n",
       "GEMPRGID= 'GN-2019A-DD-108'    / Gemini Science Program ID                      \n",
       "OBSID   = 'GN-2019A-DD-108-37' / Observation ID / Data label                    \n",
       "DATALAB = 'GN-2019A-DD-108-37-021' / Datalabel                                  \n",
       "OBSERVER= 'J. Scharwaechter'   / Observer                                       \n",
       "OBSERVAT= 'Gemini-North'       / Observatory                                    \n",
       "TELESCOP= 'Gemini-North'       / Telescope                                      \n",
       "PARALLAX=                   0. / Parallax of Target                             \n",
       "RADVEL  =                   0. / Heliocentric Radial Velocity                   \n",
       "EPOCH   =                2000. / Epoch for Target coordinates                   \n",
       "EQUINOX =                2000. / Equinox for Target coordinates                 \n",
       "TRKEQUIN=                2000. / Tracking equinox                               \n",
       "SSA     = 'M. Hoenig'          / SSA                                            \n",
       "RA      =         267.02020833 / RA of Target                                   \n",
       "DEC     =         -24.77905556 / Declination of Target                          \n",
       "ELEVATIO=     38.6866861111111 / Current Elevation                              \n",
       "AZIMUTH =     210.859634722222 / Current Azimuth                                \n",
       "CRPA    =    -122.177536331088 / Current Cass Rotator Position Angle            \n",
       "HA      = '+01:44:33.92'       / Telescope hour angle                           \n",
       "LT      = '04:00:01.3'         / Local time at start of observation             \n",
       "TRKFRAME= 'FK5     '           / Tracking co-ordinate                           \n",
       "DECTRACK=                   0. / Differential tracking rate Dec                 \n",
       "TRKEPOCH=         58624.506726 / Differential tracking reference epoch          \n",
       "RATRACK =                   0. / Differential tracking rate RA                  \n",
       "FRAME   = 'FK5     '           / Target coordinate system                       \n",
       "PMDEC   =              -0.0057 / Proper Motion in Declination                   \n",
       "PMRA    =               0.0001 / Proper Motion in RA                            \n",
       "WAVELENG=               22000. / Effective Target Wavelength                    \n",
       "RAWIQ   = '70-percentile'      / Raw Image Quality                              \n",
       "RAWCC   = '50-percentile'      / Raw Cloud Cover                                \n",
       "RAWWV   = 'Any     '           / Raw Water Vapour/Transparency                  \n",
       "RAWBG   = 'Any     '           / Raw Background                                 \n",
       "RAWPIREQ= 'YES     '           / PI Requirements Met                            \n",
       "RAWGEMQA= 'USABLE  '           / Gemini Quality Assessment                      \n",
       "CGUIDMOD= 'Basic   '           / Driving mode for carousel                      \n",
       "UT      = '14:00:01.3'         / Beginning of Observation (UT)                  \n",
       "M2BAFFLE= 'NEAR IR '           / Position of M2 baffle                          \n",
       "M2CENBAF= 'OPEN    '           / Position of M2 central hole baffle             \n",
       "ST      = '19:33:50.3'         / Sidereal time at the start of the exposure     \n",
       "XOFFSET =     0.85417242679327 / Telescope offset in x in arcsec                \n",
       "YOFFSET =   -0.365130960100951 / Telescope offset in y in arcsec                \n",
       "POFFSET =    0.365130960102193 / Telescope offset in p in arcsec                \n",
       "QOFFSET =    0.854172426792739 / Telescope offset in q in arcsec                \n",
       "RAOFFSET=    0.365130960102193 / Telescope offset in RA in arcsec               \n",
       "DECOFFSE=    0.854172426792739 / Telescope offset in DEC in arcsec              \n",
       "RATRGOFF=                  -0. / Target offset in RA in arcsec                  \n",
       "DECTRGOF=                  -1. / Target offset in DEC in arcsec                 \n",
       "PA      =                   0. / Sky Position Angle at start of exposure        \n",
       "IAA     =                 270. / Instrument Alignment Angle                     \n",
       "SFRT2   =              -91.093 / Science fold rotation angle (degrees)          \n",
       "SFTILT  =               -45.16 / Science fold tilt angle (degrees)              \n",
       "SFLINEAR=                -1.25 / Science fold linear position (mm)              \n",
       "AOFOLD  = 'IN      '           / AO Pick-Off Mirror Position                    \n",
       "PWFS1_ST= 'parked  '           / PWFS1 probe state (frozen,guiding,parked)      \n",
       "PWFS2_ST= 'parked  '           / PWFS2 probe state (frozen,guiding,parked)      \n",
       "OIWFS_ST= 'parked  '           / OIWFS probe state (frozen,guiding,parked)      \n",
       "AOWFS_ST= 'guiding '           / AOWFS probe state (frozen,guiding,parked)      \n",
       "SCIBAND =                    1 / Science Ranking Band                           \n",
       "REQIQ   = '70-percentile'      / Requested Image Quality                        \n",
       "REQCC   = '50-percentile'      / Requested Cloud Cover                          \n",
       "REQBG   = 'Any     '           / Requested Background                           \n",
       "REQWV   = 'Any     '           / Requested Water Vapour                         \n",
       "NUMREQTW=                    0 / Number of Requested Timing Window REQTW entries\n",
       "AOARA   =         267.01954167 / RA of AOWFS guide star                         \n",
       "AOARV   =                   0. / AOWFS Heliocentric Radial Velocity             \n",
       "AOAWAVEL=                7000. / AOWFS Effective Target Wavelength              \n",
       "AOADEC  =         -24.77575556 / Declination of AOWFS guide star                \n",
       "AOAEPOCH=                2000. / Epoch for AOWFS guide star coordinates         \n",
       "AOAEQUIN=                2000. / Equinox for AOWFS guide star coordinates       \n",
       "AOAFRAME= 'FK5     '           / AOWFS Target coordinate system                 \n",
       "AOAOBJEC= '327-113281'         / Object Name for AOWFS guide star               \n",
       "AOAPMDEC=               0.0032 / AOWFS Proper Motion in Declination             \n",
       "AOAPMRA =               0.0004 / AOWFS Proper Motion in RA                      \n",
       "AOAPARAL=                   0. / AOWFS Parallax of Target                       \n",
       "AOFOCUS =                -0.02 / AOWFS Focus Offset (mm)                        \n",
       "HUMIDITY=                  43. / The relative humidity (fraction, 0..101).      \n",
       "TAMBIENT=                  4.4 / The ambient temp (C).                          \n",
       "TAMBIEN2=                39.92 / The ambient temp (F).                          \n",
       "PRESSURE=            464.42332 / The atmospheric pressure (mm Hg).              \n",
       "PRESSUR2=               61900. / The atmospheric pressure (Pa).                 \n",
       "DEWPOINT=                 -7.3 / The dew point (C).                             \n",
       "DEWPOIN2=                18.86 / The dew point (F).                             \n",
       "WINDSPEE=                  0.4 / The wind speed (m/s).                          \n",
       "WINDSPE2=               0.8948 / The wind speed (mph).                          \n",
       "WINDDIRE=                  62. / The wind direction (degrees).                  \n",
       "WINDCOVR= 'Opened  '           / Window cover position name (open|closed)       \n",
       "FILTER  = 'HK_G0603'           / Filter name                                    \n",
       "APOFFSET=                   0. / Fopl offseti (arcseconds)                      \n",
       "GRATING = 'K_G5605 '           / Grating name                                   \n",
       "GRATWAVE=                  2.2 / Grating cetntral wavelength                    \n",
       "APERTURE= '3.0_Mask_G5610'     / Focal plane mask                               \n",
       "FLIP    = 'Out     '           / Imaging (flip) mirror                          \n",
       "EXPRQ   =                  60. / Requested Exposure time                        \n",
       "DCNAME  = 'NIFS DC '           / Nifs dc name                                   \n",
       "PERIOD  =                  60. / Period                                         \n",
       "NPERIODS=                    1 / Number of periods                              \n",
       "EXPMODE = 'NONDESTRUCTIVE'     / Exposure mode                                  \n",
       "RDTIME  =                   5. / Read time                                      \n",
       "COADDS  =                    1 / Number of coadds summed                        \n",
       "BIASPWR =                   3. / Source voltage of bias P-FET                   \n",
       "OBSMODE = 'IFU     '           / Observing mode configuration                   \n",
       "LNRS    =                    4 / Number of non-destructive read pairs           \n",
       "DATE-OBS= '2019-05-21'         / Observation date (UT)                          \n",
       "INPORT  =                    1 / Number of ISS port where NIFS was located      \n",
       "CTYPE1  = 'RA---TAN'           / R.A. in tangent plane projection               \n",
       "CRPIX1  =            14.999646 / Ref pix of axis 1                              \n",
       "CRVAL1  =           267.019971 / RA at Ref pix in decimal degrees               \n",
       "CTYPE2  = 'DEC--TAN'           / DEC. in tangent plane projection               \n",
       "CRPIX2  =            34.000686 / Ref pix of axis 2                              \n",
       "CRVAL2  =           -24.779757 / DEC at Ref pix in decimal degrees              \n",
       "CD1_1   =                  -0. / WCS matrix element 1 1                         \n",
       "CD1_2   =              1.9E-05 / WCS matrix element 1 2                         \n",
       "CD2_1   =             -4.7E-05 / WCS matrix element 2 1                         \n",
       "CD2_2   =                   0. / WCS matrix element 2 2                         \n",
       "RADECSYS= 'FK5     '           / R.A./DEC. coordinate system reference          \n",
       "MJD_OBS =         58624.584099 / Mean Julian day of observation                 \n",
       "DETSIZE = '[1:2048,1:2048]'    / Dimensions of detector                         \n",
       "DETECTOR= 'NIFS    '           / Name of detector                               \n",
       "NCCDS   =                    1 / Number of detector CCDS                        \n",
       "NAMPS   =                    4 / Number of CCD amps                             \n",
       "CCDNAME = 'NIFS    '           / CCD/ARRAY name                                 \n",
       "CCDSIZE = '[1:2048,1:2048]'    / Dimensions of CCD                              \n",
       "CCDSUM  = '1 1     '           / CCD binning                                    \n",
       "CCDSEC  = '[1:512,1:2048]'     / CCD section                                    \n",
       "AMPNAME = '1       '           / Amplifier name                                 \n",
       "AMPSEC  = '[1:512,1:2048]'     / Amplifier section                              \n",
       "DETSEC  = '[1:2048,1:2048]'    / Full detector size                             \n",
       "AMPNAME2= '2       '           / Amplifier 2 name                               \n",
       "AMPSEC2 = '[1024:513,1:2048]'  / Amplifier 2 section                            \n",
       "AMPNAME3= '3       '           / Amplifier 3 name                               \n",
       "AMPSEC3 = '[1025:1536,1:2048]' / Amplifier 3 section                            \n",
       "AMPNAME4= '4       '           / Amplifier 4 name                               \n",
       "AMPSEC4 = '[2048:1537,1:2048]' / Amplifier 4 section                            \n",
       "EXPTIME =                  60. / Exposure time (s)                              \n",
       "AOFREQ  =                1000. / Altair sampling frequency during exposure (Hz) \n",
       "AOCOUNTS=              322.406 / Altair GS counts at end of exposure (ADU/subape\n",
       "AOSEEING=              0.31267 / Altair measured seeing at end of exposure (arcs\n",
       "AOWFSX  =          7.13832E-05 / Altair WFS X position [mm] (0.621mm/arcsec)    \n",
       "AOWFSY  =          3.99143E-05 / Altair WFS Y position [mm] (0.621mm/arcsec)    \n",
       "AOWFSZ  =         -1.25324E-05 / Altair WFS Z position [mm]                     \n",
       "AOGAIN  =              1.28142 / Altair centroid gain estimate                  \n",
       "AONCPAF = '/aoBase/rel/input/aoNcpaNIFSp1Lgs.dat' / Altair Non-Common Path Aberr\n",
       "CRFOLLOW= 'yes     '           / Cass Rotator follow mode (yes|no)              \n",
       "AONDFILT= 'OUT     '           / Altair ND filter (in|out)                      \n",
       "AOFLENS = 'IN      '           / Altair Fields Lens (in|out)                    \n",
       "AOFLEXF = '/aoBase/rel/data/aoFlexNIFSp1Lgs.dat' / Altair flexure file          \n",
       "LGUSTAGE= 'IN      '           / LGS U stage position                           \n",
       "AOBS    = '0.85-2.5um'         / Altair Beamsplitter                            \n",
       "LGDFOCUS=                  43. / LGS defocus offset set point                   \n",
       "LGTTCNTS=               157.43 / Tip tilt sensor counts (ADU)                   \n",
       "LGTTEXP =                   1. / Tip tilt sensor exposure time (ms)             \n",
       "LGSFCNTS=             23963.73 / Slow focus sensor counts (ADU)                 \n",
       "LGSFEXP =                   5. / Slow focus sensor exposure time (s)            \n",
       "FSMTIP  =             0.119297 / Field steering mirror tip (mm)                 \n",
       "FSMTILT =             0.968111 / Field steering mirror tilt (mm)                \n",
       "LGZMPOS =               100.43 / LGS zoom roof position (mm)                    \n",
       "NAALT   =     94.1141228310145 / Sodium layer altitude (km)                     \n",
       "NATHICK =              5.97008 / Sodium layer thickness (km)                    \n",
       "LGNDFILT= 'OUT     '           / LGS tip tilt sensor neutral density filter     \n",
       "LGTTIRIS= 'open    '           / LGS tip tilt sensor iris                       \n",
       "AIRMASS =                1.601 / Mean airmass for the observation               \n",
       "AMSTART =                1.598 / Airmass at start of exposure                   \n",
       "AMEND   =                1.604 / Airmass at end of exposure                     \n",
       "PROP_MD =                    F / Proprietary Metadata                           \n",
       "RELEASE = '2020-05-21'         / End of proprietary period YYY-MM-DD            \n",
       "MDF_YSHF=                  3.9 / MDF Y shift (subtracted from y_ccd)            \n",
       "MDF_FILE= 'nifs$data/nifs-mdf[1]' / MDF source                                  \n",
       "NEXTEND =                    1 / number of extensions in file                   \n",
       "MODE    = 'IFU               ' / Reduction mode                                 \n",
       "BIASVOLT=                3.000 / Array bias voltage (V)                         \n",
       "PIXSCALE=              0.04300 / Pixel scale in arcsec/pixel                    \n",
       "NSCIEXT =                   29 / Number of science extensions                   \n",
       "DISPAXIS=                    1 / Dispersion axis (along columns)                \n",
       "PREPARE = '2019-10-13T01:44:35' / UT Time stamp for NFPREPARE                   \n",
       "GEM-TLM = '2019-10-13T17:18:17' / UT Last modification with GEMINI              \n",
       "BPMFILE = 'rnN20190521S0246_sflat_bpm.pl' / Input bad pixel mask file           \n",
       "GEMARITH= '2019-10-13T00:53:02' / UT Time Stamp for GEMARITH                    \n",
       "ORIGXSIZ=                 2040 / Original size in X                             \n",
       "ORIGYSIZ=                 2080 / Original size in Y                             \n",
       "NSCUT   = '2019-10-13T02:16:58' / UT Time stamp for NSCUT                       \n",
       "NSREDUCE= '2019-10-13T02:24:13' / UT Time stamp for NSREDUCE                    \n",
       "FLATIMAG= 'rnN20190521S0246_flat' / Flat field image used                       \n",
       "NFFIXBAD= '2019-10-13T02:49:38' / UT Time stamp for NFFIXBAD                    \n",
       "NSFITCOO= '2019-10-13T15:20:17' / UT Time stamp for NSFITCOORDS                 \n",
       "NSTRANSF= '2019-10-13T16:20:57' / UT Time stamp for NSTRANSFORM                 \n",
       "NIFCUBE = '2019-10-13T17:18:17' / UT Time stamp for NIFCUBE                     \n",
       "                                                                                \n",
       "                                                                                \n",
       "                                                                                \n",
       "                                                                                \n",
       "                                                                                \n",
       "                                                                                \n",
       "                                                                                \n",
       "                                                                                \n",
       "                                                                                \n",
       "                                                                                \n",
       "                                                                                \n",
       "                                                                                \n",
       "                                                                                \n",
       "                                                                                \n",
       "                                                                                \n",
       "                                                                                \n",
       "                                                                                "
      ]
     },
     "execution_count": 5,
     "metadata": {},
     "output_type": "execute_result"
    }
   ],
   "source": [
    "terzan5[0].header"
   ]
  },
  {
   "cell_type": "code",
   "execution_count": 6,
   "metadata": {},
   "outputs": [],
   "source": [
    "terzan5.close()"
   ]
  },
  {
   "cell_type": "code",
   "execution_count": 7,
   "metadata": {},
   "outputs": [
    {
     "data": {
      "text/plain": [
       "'2019-10-13T15:19:41'"
      ]
     },
     "execution_count": 7,
     "metadata": {},
     "output_type": "execute_result"
    }
   ],
   "source": [
    "terzan5[0].header[\"DATE\"]"
   ]
  }
 ],
 "metadata": {
  "kernelspec": {
   "display_name": "Python 3",
   "language": "python",
   "name": "python3"
  },
  "language_info": {
   "codemirror_mode": {
    "name": "ipython",
    "version": 3
   },
   "file_extension": ".py",
   "mimetype": "text/x-python",
   "name": "python",
   "nbconvert_exporter": "python",
   "pygments_lexer": "ipython3",
   "version": "3.7.0"
  }
 },
 "nbformat": 4,
 "nbformat_minor": 2
}
